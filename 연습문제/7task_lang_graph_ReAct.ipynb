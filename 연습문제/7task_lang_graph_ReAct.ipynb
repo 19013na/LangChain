{
 "cells": [
  {
   "cell_type": "markdown",
   "id": "d809a79a",
   "metadata": {},
   "source": [
    "##### 기본 설정"
   ]
  },
  {
   "cell_type": "code",
   "execution_count": 32,
   "id": "fac7ddf4",
   "metadata": {},
   "outputs": [],
   "source": [
    "import os\n",
    "import warnings\n",
    "from dotenv import load_dotenv\n",
    "from langchain_community.vectorstores import FAISS\n",
    "from langgraph.graph import MessagesState, StateGraph, START, END\n",
    "from langchain_ollama  import OllamaEmbeddings\n",
    "from langchain_core.tools import tool\n",
    "from typing import List\n",
    "from langchain_openai import ChatOpenAI\n",
    "from langgraph.prebuilt import ToolNode, tools_condition\n",
    "from langchain_core.messages import HumanMessage, SystemMessage\n",
    "from IPython.display import Image, display\n",
    "from pprint import pprint\n",
    "from textwrap import dedent\n",
    "\n",
    "# 환경설정\n",
    "load_dotenv()\n",
    "warnings.filterwarnings(\"ignore\") # 파이썬 경고 무시"
   ]
  },
  {
   "cell_type": "markdown",
   "id": "df24c601",
   "metadata": {},
   "source": [
    "#### 문제 7-1 : LangGraph ReAct Agent 실습 연습문제 (Vector DB + Tool 연동)  \n",
    "- 사용자 정의 ReAct Agent 구현 (조건부 엣지 활용) "
   ]
  },
  {
   "cell_type": "markdown",
   "id": "ddcb498f",
   "metadata": {},
   "source": [
    "1. db tool 설정"
   ]
  },
  {
   "cell_type": "code",
   "execution_count": 33,
   "id": "de117470",
   "metadata": {},
   "outputs": [],
   "source": [
    "embeddings_model = OllamaEmbeddings(model=\"bge-m3:latest\")\n",
    "\n",
    "# menu db 벡터 저장소 로드\n",
    "cafe_db = FAISS.load_local(\n",
    "    \"../db/cafe_db\", \n",
    "    embeddings_model, \n",
    "    allow_dangerous_deserialization=True\n",
    ")\n",
    "\n",
    "# Tool 정의 \n",
    "@tool\n",
    "def search_menu(query: str) -> str:\n",
    "    \"\"\"카페 메뉴에서 정보를 검색합니다.\"\"\"\n",
    "    docs = cafe_db.similarity_search(query, k=6)\n",
    "\n",
    "    if not docs:\n",
    "        return \"관련 메뉴 정보를 찾을 수 없습니다.\"\n",
    "\n",
    "    formatted_docs = \"\\n\\n---\\n\\n\".join(\n",
    "        [\n",
    "            f'<Document source=\"{doc.metadata.get(\"source\", \"unknown\")}\"/>\\n{doc.page_content}\\n</Document>'\n",
    "            for doc in docs\n",
    "        ]\n",
    "    )\n",
    "\n",
    "    if len(docs) > 0:\n",
    "        return formatted_docs\n",
    "    return \"관련 카페 메뉴 정보를 찾을 수 없습니다.\"\n",
    "\n",
    "\n",
    "# 2단계: 상태 정의  \n",
    "class AgentState(MessagesState):\n",
    "        \"\"\"ReAct Agent의 상태를 정의하는 클래스\"\"\"\n",
    "        pass\n"
   ]
  },
  {
   "cell_type": "markdown",
   "id": "e20519b0",
   "metadata": {},
   "source": [
    "2. llm 설정 및 tool 연결"
   ]
  },
  {
   "cell_type": "code",
   "execution_count": 34,
   "id": "8a10db42",
   "metadata": {},
   "outputs": [
    {
     "name": "stdout",
     "output_type": "stream",
     "text": [
      "gpt-4o-mini\n"
     ]
    }
   ],
   "source": [
    "# LLM 모델 \n",
    "llm = ChatOpenAI(model=\"gpt-4o-mini\", streaming=True)\n",
    "print(llm.model_name)\n",
    "\n",
    "# 도구 목록\n",
    "tools = [search_menu]\n",
    "\n",
    "# 모델에 도구를 바인딩\n",
    "llm_with_tools = llm.bind_tools(tools=tools)\n",
    "#print(type(llm_with_tools))"
   ]
  },
  {
   "cell_type": "markdown",
   "id": "7403d4dc",
   "metadata": {},
   "source": [
    "##### 1차 테스트"
   ]
  },
  {
   "cell_type": "code",
   "execution_count": 35,
   "id": "e4b2baef",
   "metadata": {},
   "outputs": [
    {
     "name": "stdout",
     "output_type": "stream",
     "text": [
      "AIMessage(content='', additional_kwargs={'tool_calls': [{'index': 0, 'id': 'call_pzWJ6X41projWTRoyEyPHL7a', 'function': {'arguments': '{\"query\": \"아메리카노\"}', 'name': 'search_menu'}, 'type': 'function'}, {'index': 1, 'id': 'call_sPpJ9i88QObsVkleddntan9s', 'function': {'arguments': '{\"query\": \"아이스 아메리카노\"}', 'name': 'search_menu'}, 'type': 'function'}]}, response_metadata={'finish_reason': 'tool_calls', 'model_name': 'gpt-4o-mini-2024-07-18', 'system_fingerprint': 'fp_34a54ae93c', 'service_tier': 'default'}, id='run--788a16d5-fce6-434f-9f88-68fe8ea6e735-0', tool_calls=[{'name': 'search_menu', 'args': {'query': '아메리카노'}, 'id': 'call_pzWJ6X41projWTRoyEyPHL7a', 'type': 'tool_call'}, {'name': 'search_menu', 'args': {'query': '아이스 아메리카노'}, 'id': 'call_sPpJ9i88QObsVkleddntan9s', 'type': 'tool_call'}])\n"
     ]
    }
   ],
   "source": [
    "tool_call = llm_with_tools.invoke(\"아메리카노와 아이스 아메리카노의 차이점과 가격을 알려주세요.\")\n",
    "#pprint(tool_call.additional_kwargs)\n",
    "pprint(tool_call)"
   ]
  },
  {
   "cell_type": "markdown",
   "id": "18fe4c9f",
   "metadata": {},
   "source": [
    "3. ReAct agent 사용"
   ]
  },
  {
   "cell_type": "code",
   "execution_count": 36,
   "id": "7dd5c0e6",
   "metadata": {},
   "outputs": [],
   "source": [
    "# from IPython.display import Image, display\n",
    "# from langgraph.prebuilt import create_react_agent  # 미리 정의된 에이전트 생성 함수\n",
    "\n",
    "# graph = create_react_agent(\n",
    "#     llm, \n",
    "#     tools=tools, \n",
    "# )\n",
    "# print(type(graph))\n",
    "\n",
    "# 그래프 출력\n",
    "#display(Image(graph.get_graph().draw_mermaid_png()))"
   ]
  },
  {
   "cell_type": "markdown",
   "id": "36495415",
   "metadata": {},
   "source": [
    "- SystemMessage에 넣을 시스템 프롬프트 설정해주기"
   ]
  },
  {
   "cell_type": "code",
   "execution_count": 37,
   "id": "1b3131f8",
   "metadata": {},
   "outputs": [],
   "source": [
    "# 시스템 프롬프트\n",
    "system_prompt = dedent(\"\"\"\n",
    "당신은 카페의 AI 어시스턴트입니다.\n",
    "사용자의 메뉴 관련 질문에 정확하고 친절하게 답변해주세요.  \n",
    "제공된 도구들을 활용해 정확한 정보를 전달해야 합니다.\n",
    "                       \n",
    "- search_cafe_menu: 카페 메뉴 정보를 검색할 때 사용하세요\n",
    "\n",
    "고객의 질문을 이해하고, 필요한 경우 도구를 사용하여 정보를 찾은 후 정확한 답변을 제공하세요.\n",
    "\"\"\")"
   ]
  },
  {
   "cell_type": "markdown",
   "id": "7c047f14",
   "metadata": {},
   "source": [
    "#### 카페 메뉴 검색용 도구 함수"
   ]
  },
  {
   "cell_type": "code",
   "execution_count": 38,
   "id": "98d4e62e",
   "metadata": {},
   "outputs": [],
   "source": [
    "# LangGraph MessagesState 사용\n",
    "class GraphState(MessagesState):\n",
    "    pass\n",
    "\n",
    "# 노드 함수 정의 : 도구 필요 응답\n",
    "# llm_with_tools에 invoke\n",
    "def call_model(state: GraphState):\n",
    "    print(\"--- Agent 노드: LLM 호출 ---\")\n",
    "\n",
    "    system_message = SystemMessage(content=system_prompt)\n",
    "    messages = [system_message] + state['messages']\n",
    "    response = llm_with_tools.invoke(messages)\n",
    "\n",
    "    print(f\"LLM 응답 생성 완료. 도구 호출 여부: {bool(response.tool_calls)}\")\n",
    "    return {\"messages\": [response]}"
   ]
  },
  {
   "cell_type": "code",
   "execution_count": 39,
   "id": "206fb145",
   "metadata": {},
   "outputs": [
    {
     "name": "stdout",
     "output_type": "stream",
     "text": [
      "사용자 정의 ReAct Agent가 성공적으로 생성되었습니다!\n",
      "Agent 타입: <class 'langgraph.graph.state.CompiledStateGraph'>\n"
     ]
    },
    {
     "data": {
      "image/png": "[encoded data removed]",
      "text/plain": [
       "<IPython.core.display.Image object>"
      ]
     },
     "metadata": {},
     "output_type": "display_data"
    }
   ],
   "source": [
    "# 그래프 구성\n",
    "builder = StateGraph(GraphState)\n",
    "\n",
    "builder.add_node(\"agent\", call_model)\n",
    "builder.add_node(\"tools\", ToolNode(tools)) # toolNode에 invoke\n",
    "\n",
    "builder.add_edge(START, \"agent\")\n",
    "\n",
    "# tools_condition 사용 - 조건부 엣지 추가\n",
    "builder.add_conditional_edges(\n",
    "    \"agent\",\n",
    "    tools_condition, # 도구 or END로 라우팅\n",
    ")\n",
    "builder.add_edge(\"tools\", \"agent\")\n",
    "\n",
    "graph = builder.compile()\n",
    "\n",
    "\n",
    "print(\"사용자 정의 ReAct Agent가 성공적으로 생성되었습니다!\")\n",
    "print(f\"Agent 타입: {type(graph)}\")\n",
    "\n",
    "# 그래프 출력\n",
    "try:\n",
    "    display(Image(graph.get_graph().draw_mermaid_png()))\n",
    "except:\n",
    "    print(\"그래프 시각화를 할 수 없습니다.\")"
   ]
  },
  {
   "cell_type": "code",
   "execution_count": 40,
   "id": "ce03e4a4",
   "metadata": {},
   "outputs": [],
   "source": [
    "# 테스트 함수\n",
    "def test_custom_react_agent():\n",
    "    \"\"\"사용자 정의 ReAct Agent 테스트\"\"\"\n",
    "    test_questions = [\n",
    "        \"아메리카노와 아이스 아메리카노의 차이점과 가격을 알려주세요.\",\n",
    "        \"라떼 종류에는 어떤 메뉴들이 있고 각각의 특징은 무엇인가요?\",\n",
    "        \"디저트 메뉴 중에서 티라미수에 대해 자세히 설명해주세요.\"\n",
    "    ]\n",
    "    \n",
    "    for question in test_questions:\n",
    "        print(f\"\\n{'='*60}\")\n",
    "        print(f\"질문: {question}\")\n",
    "        print('='*60)\n",
    "        \n",
    "        # Agent 실행\n",
    "        inputs = {\"messages\": [HumanMessage(content=question)]}\n",
    "        result = graph.invoke(inputs)\n",
    "        \n",
    "        # 실행 과정 출력\n",
    "        print(\"\\n=== 실행 과정 ===\")\n",
    "        for i, message in enumerate(result['messages']):\n",
    "            if hasattr(message, 'tool_calls') and message.tool_calls:\n",
    "                print(f\"{i+1}. {type(message).__name__}: 도구 호출 - {message.tool_calls[0]['name']}\")\n",
    "            else:\n",
    "                content_preview = message.content[:100] + \"...\" if len(message.content) > 100 else message.content\n",
    "                print(f\"{i+1}. {type(message).__name__}: {content_preview}\")\n",
    "        \n",
    "        # 최종 답변 출력\n",
    "        print(f\"\\n=== 최종 답변 ===\")\n",
    "        print(result['messages'][-1].content)"
   ]
  },
  {
   "cell_type": "code",
   "execution_count": 41,
   "id": "f0a5a3cb",
   "metadata": {},
   "outputs": [
    {
     "name": "stdout",
     "output_type": "stream",
     "text": [
      "\n",
      "=== 단일 테스트 ===\n",
      "--- Agent 노드: LLM 호출 ---\n",
      "LLM 응답 생성 완료. 도구 호출 여부: False\n",
      "\n",
      "=== 메시지 흐름 분석 ===\n",
      "1. HumanMessage\n",
      "   - 내용: 콜드브루와 아이스 아메리카노의 차이점이 무엇인가요?\n",
      "2. AIMessage\n",
      "   - 내용: 콜드브루와 아이스 아메리카노는 모두 차가운 커피 음료이지만, 준비 방법과 맛에서 차이가 있습니다.\n",
      "\n",
      "1. **콜드브루**: \n",
      "   - 원두를 차가운 물에 오랜 시간(보통 12-24시간) 우려내서 만드는 커피입니다. \n",
      "   - 일반적으로 부드럽고, 산미가 적으며, 풍부한...\n",
      "\n",
      "=== 최종 답변 ===\n",
      "콜드브루와 아이스 아메리카노는 모두 차가운 커피 음료이지만, 준비 방법과 맛에서 차이가 있습니다.\n",
      "\n",
      "1. **콜드브루**: \n",
      "   - 원두를 차가운 물에 오랜 시간(보통 12-24시간) 우려내서 만드는 커피입니다. \n",
      "   - 일반적으로 부드럽고, 산미가 적으며, 풍부한 맛을 가지고 있습니다.\n",
      "\n",
      "2. **아이스 아메리카노**: \n",
      "   - 에스프레소 샷을 찬물에 희석하여 만드는 음료입니다. 일반적으로 에스프레소와 물의 비율에 따라 농도가 다를 수 있습니다.\n",
      "   - 커피의 쌉쌀한 맛이 더 두드러지며, 에스프레소 특유의 깊은 맛이 느껴집니다.\n",
      "\n",
      "결론적으로, 콜드브루는 침출 방식으로 제조되어 부드럽고 산미가 낮고, 아이스 아메리카노는 에스프레소를 물에 섞어 만든 음료로 풍부한 커피 맛이 강조됩니다.\n",
      "\n",
      "=== 전체 테스트 실행 ===\n",
      "\n",
      "============================================================\n",
      "질문: 아메리카노와 아이스 아메리카노의 차이점과 가격을 알려주세요.\n",
      "============================================================\n",
      "--- Agent 노드: LLM 호출 ---\n",
      "LLM 응답 생성 완료. 도구 호출 여부: True\n",
      "--- Agent 노드: LLM 호출 ---\n",
      "LLM 응답 생성 완료. 도구 호출 여부: False\n",
      "\n",
      "=== 실행 과정 ===\n",
      "1. HumanMessage: 아메리카노와 아이스 아메리카노의 차이점과 가격을 알려주세요.\n",
      "2. AIMessage: 도구 호출 - search_menu\n",
      "3. ToolMessage: <Document source=\"../data/cafe_menu_data.txt\"/>\n",
      "7. 프라푸치노\n",
      "   • 가격: ₩7,000\n",
      "   • 주요 원료: 에스프레소, 우유, 얼음, ...\n",
      "4. ToolMessage: <Document source=\"../data/cafe_menu_data.txt\"/>\n",
      "7. 프라푸치노\n",
      "   • 가격: ₩7,000\n",
      "   • 주요 원료: 에스프레소, 우유, 얼음, ...\n",
      "5. AIMessage: 아메리카노와 아이스 아메리카노의 차이점과 가격은 다음과 같습니다.\n",
      "\n",
      "1. **아메리카노**\n",
      "   - **가격**: 7,000원\n",
      "   - **설명**: 에스프레소와 뜨거운 물로 만들...\n",
      "\n",
      "=== 최종 답변 ===\n",
      "아메리카노와 아이스 아메리카노의 차이점과 가격은 다음과 같습니다.\n",
      "\n",
      "1. **아메리카노**\n",
      "   - **가격**: 7,000원\n",
      "   - **설명**: 에스프레소와 뜨거운 물로 만들어지며, 진한 커피 맛이 특징입니다.\n",
      "\n",
      "2. **아이스 아메리카노**\n",
      "   - **가격**: 5,000원\n",
      "   - **설명**: 에스프레소와 찬 물 또는 얼음으로 만들어져 시원한 맛을 제공합니다.\n",
      "\n",
      "따라서, 아메리카노는 더 비싸고, 따뜻한 음료인 반면, 아이스 아메리카노는 더 저렴하며 차갑게 즐길 수 있는 음료입니다.\n",
      "\n",
      "============================================================\n",
      "질문: 라떼 종류에는 어떤 메뉴들이 있고 각각의 특징은 무엇인가요?\n",
      "============================================================\n",
      "--- Agent 노드: LLM 호출 ---\n",
      "LLM 응답 생성 완료. 도구 호출 여부: True\n",
      "--- Agent 노드: LLM 호출 ---\n",
      "LLM 응답 생성 완료. 도구 호출 여부: False\n",
      "\n",
      "=== 실행 과정 ===\n",
      "1. HumanMessage: 라떼 종류에는 어떤 메뉴들이 있고 각각의 특징은 무엇인가요?\n",
      "2. AIMessage: 도구 호출 - search_menu\n",
      "3. ToolMessage: <Document source=\"../data/cafe_menu_data.txt\"/>\n",
      "2. 카페라떼\n",
      "   • 가격: ₩5,500\n",
      "   • 주요 원료: 에스프레소, 스팀 밀크\n",
      "   ...\n",
      "4. AIMessage: 라떼의 다양한 종류와 특징은 다음과 같습니다:\n",
      "\n",
      "1. **카페라떼**\n",
      "   - **가격**: ₩5,500\n",
      "   - **주요 원료**: 에스프레소, 스팀 밀크\n",
      "   - **설명**:...\n",
      "\n",
      "=== 최종 답변 ===\n",
      "라떼의 다양한 종류와 특징은 다음과 같습니다:\n",
      "\n",
      "1. **카페라떼**\n",
      "   - **가격**: ₩5,500\n",
      "   - **주요 원료**: 에스프레소, 스팀 밀크\n",
      "   - **설명**: 진한 에스프레소에 부드럽게 스팀한 우유를 넣어 만든 대표적인 밀크 커피입니다. 크리미한 질감과 부드러운 맛이 특징이며, 다양한 시럽과 토핑 추가가 가능합니다. 라떼 아트로 시각적 즐거움도 제공합니다.\n",
      "\n",
      "2. **녹차 라떼**\n",
      "   - **가격**: ₩5,800\n",
      "   - **주요 원료**: 말차 파우더, 스팀 밀크, 설탕\n",
      "   - **설명**: 고급 말차 파우더와 부드러운 스팀 밀크로 만든 건강한 음료입니다. 녹차의 은은한 쓴맛과 우유의 부드러움이 조화를 이루며, 항산화 성분이 풍부합니다. 달콤함 조절이 가능합니다.\n",
      "\n",
      "3. **바닐라 라떼**\n",
      "   - **가격**: ₩6,000\n",
      "   - **주요 원료**: 에스프레소, 스팀 밀크, 바닐라 시럽\n",
      "   - **설명**: 카페라떼에 달콤한 바닐라 시럽을 더한 인기 메뉴입니다. 바닐라의 달콤함과 커피의 쌉싸름함이 조화롭게 어우러지며, 휘핑크림 토핑으로 더욱 풍성한 맛을 즐길 수 있습니다.\n",
      "\n",
      "각 라떼는 그 자체의 독특한 맛과 매력을 가지고 있으니, 기호에 맞춰 선택해 보시기 바랍니다!\n",
      "\n",
      "============================================================\n",
      "질문: 디저트 메뉴 중에서 티라미수에 대해 자세히 설명해주세요.\n",
      "============================================================\n",
      "--- Agent 노드: LLM 호출 ---\n",
      "LLM 응답 생성 완료. 도구 호출 여부: True\n",
      "--- Agent 노드: LLM 호출 ---\n",
      "LLM 응답 생성 완료. 도구 호출 여부: False\n",
      "\n",
      "=== 실행 과정 ===\n",
      "1. HumanMessage: 디저트 메뉴 중에서 티라미수에 대해 자세히 설명해주세요.\n",
      "2. AIMessage: 도구 호출 - search_menu\n",
      "3. ToolMessage: <Document source=\"../data/cafe_menu_data.txt\"/>\n",
      "10. 티라미수\n",
      "    • 가격: ₩7,500\n",
      "    • 주요 원료: 마스카포네 치즈, 에스프...\n",
      "4. AIMessage: 티라미수는 이탈리아 전통 디저트로, 다음과 같은 특성을 가지고 있습니다.\n",
      "\n",
      "- **가격**: ₩7,500\n",
      "- **주요 원료**: 마스카포네 치즈, 에스프레소, 레이디핑거, 코코아 ...\n",
      "\n",
      "=== 최종 답변 ===\n",
      "티라미수는 이탈리아 전통 디저트로, 다음과 같은 특성을 가지고 있습니다.\n",
      "\n",
      "- **가격**: ₩7,500\n",
      "- **주요 원료**: 마스카포네 치즈, 에스프레소, 레이디핑거, 코코아 파우더\n",
      "- **설명**: 마스카포네 치즈와 에스프레소에 적신 레이디핑거를 층층이 쌓아 만든 디저트입니다. 부드럽고 달콤한 맛이 특징이며, 코코아 파우더로 마무리되어 깊은 풍미를 자랑합니다.\n",
      "\n",
      "부드럽고 크리미한 질감이 매력적인 티라미수는 커피와 치즈의 조화로 많은 사랑을 받고 있습니다.\n"
     ]
    }
   ],
   "source": [
    "# 10단계: 단일 테스트 실행\n",
    "print(\"\\n=== 단일 테스트 ===\")\n",
    "inputs = {\"messages\": [HumanMessage(content=\"콜드브루와 아이스 아메리카노의 차이점이 무엇인가요?\")]}\n",
    "result = graph.invoke(inputs)\n",
    "\n",
    "print(\"\\n=== 메시지 흐름 분석 ===\")\n",
    "for i, message in enumerate(result['messages']):\n",
    "    print(f\"{i+1}. {type(message).__name__}\")\n",
    "    if hasattr(message, 'tool_calls') and message.tool_calls:\n",
    "        print(f\"   - 도구 호출: {message.tool_calls[0]['name']} with '{message.tool_calls[0]['args']['query']}'\")\n",
    "    else:\n",
    "        content_preview = message.content[:150] + \"...\" if len(message.content) > 150 else message.content\n",
    "        print(f\"   - 내용: {content_preview}\")\n",
    "\n",
    "print(f\"\\n=== 최종 답변 ===\")\n",
    "print(result['messages'][-1].content)\n",
    "\n",
    "# 11단계: 전체 테스트 실행\n",
    "print(\"\\n=== 전체 테스트 실행 ===\")\n",
    "test_custom_react_agent()"
   ]
  },
  {
   "cell_type": "markdown",
   "id": "8bd7c3fd",
   "metadata": {},
   "source": [
    "- graph 실행"
   ]
  },
  {
   "cell_type": "code",
   "execution_count": 42,
   "id": "05e5f601",
   "metadata": {},
   "outputs": [
    {
     "name": "stdout",
     "output_type": "stream",
     "text": [
      "--- Agent 노드: LLM 호출 ---\n",
      "LLM 응답 생성 완료. 도구 호출 여부: True\n",
      "--- Agent 노드: LLM 호출 ---\n",
      "LLM 응답 생성 완료. 도구 호출 여부: False\n",
      "\n",
      "AI 응답: 현재 제공된 메뉴에는 케이크에 대한 정보가 포함되어 있지 않습니다. 대신 디저트 메뉴 중에서 '티라미수'를 소개해 드리겠습니다.\n",
      "\n",
      "### 티라미수\n",
      "- **가격**: ₩7,500\n",
      "- **주요 원료**: 마스카포네 치즈, 에스프레소, 레이디핑거, 코코아 파우더\n",
      "- **설명**: 이탈리아 전통 디저트인 티라미수는 마스카포네 치즈와 에스프레소에 적신 레이디핑거를 층층이 쌓아 만든 것입니다. 부드럽고 달콤한 맛이 특징이며, 코코아 파우더로 마무리하여 깊은 풍미를 자랑합니다.\n",
      "\n",
      "케이크와 관련된 메뉴가 필요하시다면, 추가로 확인해보거나 다른 문의 사항이 있으면 말씀해 주세요!\n"
     ]
    }
   ],
   "source": [
    "# 초기 상태: 사용자 입력을 messages 리스트에 넣어서 전달\n",
    "user_query = input(\"무엇을 도와드릴까요? \")\n",
    "\n",
    "# LangGraph에 넘길 상태 정의 (항상 dict 형태여야 함)\n",
    "initial_state = {\n",
    "    \"messages\": [{\"role\": \"user\", \"content\": user_query}]\n",
    "}\n",
    "\n",
    "# LangGraph 실행\n",
    "final_state = graph.invoke(initial_state)\n",
    "\n",
    "# 마지막 메시지 출력\n",
    "last_message = final_state[\"messages\"][-1]\n",
    "print(\"\\nAI 응답:\", last_message.content)"
   ]
  }
 ],
 "metadata": {
  "kernelspec": {
   "display_name": "langchain-basic-M3_YSb4G-py3.12",
   "language": "python",
   "name": "python3"
  },
  "language_info": {
   "codemirror_mode": {
    "name": "ipython",
    "version": 3
   },
   "file_extension": ".py",
   "mimetype": "text/x-python",
   "name": "python",
   "nbconvert_exporter": "python",
   "pygments_lexer": "ipython3",
   "version": "3.12.7"
  }
 },
 "nbformat": 4,
 "nbformat_minor": 5
}
