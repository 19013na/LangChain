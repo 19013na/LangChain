{
 "cells": [
  {
   "cell_type": "code",
   "execution_count": 1,
   "id": "068785d7",
   "metadata": {},
   "outputs": [
    {
     "name": "stdout",
     "output_type": "stream",
     "text": [
      "AI\n"
     ]
    }
   ],
   "source": [
    "import os\n",
    "from dotenv import load_dotenv\n",
    "\n",
    "load_dotenv()\n",
    "UPSTAGE_API_KEY= os.getenv(\"GOOGLE_API_KEY\")\n",
    "print(UPSTAGE_API_KEY[:2])"
   ]
  },
  {
   "cell_type": "code",
   "execution_count": 2,
   "id": "59821d29",
   "metadata": {},
   "outputs": [
    {
     "name": "stdout",
     "output_type": "stream",
     "text": [
      " Google Gemini Response:\n",
      "LangChain은 대규모 언어 모델(LLM)을 애플리케이션에 통합하기 위한 프레임워크입니다.  단순히 LLM을 호출하는 것 이상으로,  다양한 기능을 제공하여 LLM 기반 애플리케이션 개발을 더욱 효율적이고 강력하게 만들어줍니다.  핵심 기능은 다음과 같습니다.\n",
      "\n",
      "* **모듈화:** LangChain은 LLM, 프로세스, 메모리 등을 모듈로 분리하여 재사용성과 유연성을 높입니다.  다양한 LLM(OpenAI, Hugging Face 등)과 데이터 소스를 쉽게 교체하고 통합할 수 있습니다.\n",
      "\n",
      "* **체인(Chains):** 여러 LLM 호출이나 다른 작업을 순차적으로 또는 병렬적으로 연결하여 복잡한 작업을 수행할 수 있도록 합니다. 예를 들어, 문서를 요약하고, 요약된 내용에 질문하고, 답변을 생성하는 과정을 하나의 체인으로 구성할 수 있습니다.\n",
      "\n",
      "* **인덱싱 및 검색:**  외부 데이터 소스(문서, 데이터베이스 등)를 인덱싱하고 검색하여 LLM이 필요한 정보에 접근할 수 있도록 지원합니다.  LLM이 단순히 학습 데이터에만 의존하는 것이 아니라, 최신 정보를 활용하여 더욱 정확하고 유용한 결과를 생성할 수 있게 합니다.\n",
      "\n",
      "* **메모리:**  LLM과의 이전 상호작용을 기억하여 컨텍스트를 유지합니다.  대화형 애플리케이션에서 사용자와의 이전 대화 내용을 기억하여 더욱 자연스럽고 일관된 대화를 가능하게 합니다.\n",
      "\n",
      "* **에이전트(Agents):**  LLM이 외부 도구(검색 엔진, 계산기 등)를 사용하여 작업을 수행할 수 있도록 합니다.  LLM이 스스로 필요한 도구를 선택하고 사용하여 문제 해결 능력을 향상시킵니다.\n",
      "\n",
      "**LangChain의 장점:**\n",
      "\n",
      "* **개발 속도 향상:**  모듈화된 구성 요소와 다양한 기능을 통해 LLM 기반 애플리케이션 개발 시간을 단축합니다.\n",
      "* **유연성:**  다양한 LLM과 데이터 소스를 지원하여 개발자가 선택의 폭을 넓힙니다.\n",
      "* **확장성:**  모듈화된 설계 덕분에 애플리케이션을 쉽게 확장하고 개선할 수 있습니다.\n",
      "* **재사용성:**  개발된 구성 요소를 다른 프로젝트에서 재사용할 수 있습니다.\n",
      "\n",
      "\n",
      "**LangChain의 단점:**\n",
      "\n",
      "* **복잡성:**  다양한 기능과 모듈을 이해하고 사용하는 데 약간의 학습 곡선이 필요할 수 있습니다.\n",
      "* **의존성:**  LangChain은 다른 라이브러리에 의존하므로 설치 및 설정 과정이 복잡할 수 있습니다.\n",
      "\n",
      "\n",
      "결론적으로 LangChain은 LLM 기반 애플리케이션 개발을 위한 강력하고 유연한 프레임워크입니다.  LLM을 효과적으로 활용하여 다양한 애플리케이션을 구축하고자 하는 개발자에게 유용한 도구입니다.  하지만 복잡성을 이해하고 적절한 사용법을 익히는 것이 중요합니다.\n"
     ]
    }
   ],
   "source": [
    "from langchain_google_genai import ChatGoogleGenerativeAI\n",
    "from langchain_core.prompts import ChatPromptTemplate\n",
    "    \n",
    "# API 키 설정\n",
    "# os.environ[\"GOOGLE_API_KEY\"] = \"your-google-api-key\"\n",
    "\n",
    "# 모델 초기화\n",
    "llm = ChatGoogleGenerativeAI(\n",
    "    model=\"gemini-1.5-flash\",  # 또는 \"gemini-pro-vision\"\n",
    "    temperature=0.3    \n",
    ")\n",
    "\n",
    "# 프롬프트 설정\n",
    "prompt = ChatPromptTemplate.from_messages([\n",
    "    (\"system\", \"당신은 AI 전문가입니다다.\"),\n",
    "    (\"human\", \"{topic}은 무엇인가요?\")\n",
    "])\n",
    "\n",
    "# 체인 실행\n",
    "chain = prompt | llm\n",
    "response = chain.invoke({\"topic\": \"LangChain\"})\n",
    "\n",
    "print(\" Google Gemini Response:\")\n",
    "print(response.content)"
   ]
  }
 ],
 "metadata": {
  "kernelspec": {
   "display_name": "langchain-basic-M3_YSb4G-py3.12",
   "language": "python",
   "name": "python3"
  },
  "language_info": {
   "codemirror_mode": {
    "name": "ipython",
    "version": 3
   },
   "file_extension": ".py",
   "mimetype": "text/x-python",
   "name": "python",
   "nbconvert_exporter": "python",
   "pygments_lexer": "ipython3",
   "version": "3.12.7"
  }
 },
 "nbformat": 4,
 "nbformat_minor": 5
}
